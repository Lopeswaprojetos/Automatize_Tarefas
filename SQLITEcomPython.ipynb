{
  "nbformat": 4,
  "nbformat_minor": 0,
  "metadata": {
    "colab": {
      "provenance": [],
      "authorship_tag": "ABX9TyM/sF88ddF0DevfPWt7oleg",
      "include_colab_link": true
    },
    "kernelspec": {
      "name": "python3",
      "display_name": "Python 3"
    },
    "language_info": {
      "name": "python"
    }
  },
  "cells": [
    {
      "cell_type": "markdown",
      "metadata": {
        "id": "view-in-github",
        "colab_type": "text"
      },
      "source": [
        "<a href=\"https://colab.research.google.com/github/Lopeswaprojetos/Automatize_Tarefas/blob/main/SQLITEcomPython.ipynb\" target=\"_parent\"><img src=\"https://colab.research.google.com/assets/colab-badge.svg\" alt=\"Open In Colab\"/></a>"
      ]
    },
    {
      "cell_type": "code",
      "source": [
        "import sqlite3\n",
        "\n",
        "conn = sqlite3.connect('meubancodedados.db')\n",
        "\n",
        "#criar um objeto cursor para executar comandos SQL\n",
        "cursor = conn.cursor()"
      ],
      "metadata": {
        "id": "hMv_YGCp_D8P"
      },
      "execution_count": 3,
      "outputs": []
    },
    {
      "cell_type": "markdown",
      "source": [
        "Create (Criar):\n",
        "\n",
        "Vamos criar uma tabela e inserir alguns dados nela:"
      ],
      "metadata": {
        "id": "jCsd5VYv_Yj7"
      }
    },
    {
      "cell_type": "code",
      "source": [
        "#criar uma nova tabela\n",
        "cursor.execute('''\n",
        "    CREATE TABLE IF NOT EXISTS usuarios (\n",
        "        id INTEGER PRIMARY KEY,\n",
        "        nome TEXT NOT NULL,\n",
        "        idade INTEGER\n",
        "    )\n",
        "''')\n",
        "\n",
        "#inserir dados na tabela\n",
        "cursor.execute('''INSERT INTO usuarios (nome, idade) VALUES ('João', 25)''')\n",
        "cursor.execute('''INSERT INTO usuarios (nome, idade) VALUES ('Bob', 30)''')\n",
        "cursor.execute('''INSERT INTO usuarios (nome, idade) VALUES ('Alice', 27)''')\n",
        "cursor.execute('''INSERT INTO usuarios (nome, idade) VALUES ('Carem', 35)''')\n",
        "cursor.execute('''INSERT INTO usuarios (nome, idade) VALUES ('Mateus', 15)''')\n",
        "cursor.execute('''INSERT INTO usuarios (nome, idade) VALUES ('Alexandre', 40)''')\n",
        "\n",
        "#Commit (salvar) as alterações\n",
        "conn.commit()"
      ],
      "metadata": {
        "id": "9ddxyo2l_aJ4"
      },
      "execution_count": 4,
      "outputs": []
    },
    {
      "cell_type": "markdown",
      "source": [
        "Read (Ler):\n",
        "Ler dados da tabela"
      ],
      "metadata": {
        "id": "9KqbjlJ4_fwe"
      }
    },
    {
      "cell_type": "code",
      "source": [
        "\n",
        "#selecionar e ler dados\n",
        "\n",
        "cursor.execute('''SELECT * FROM usuarios''')\n",
        "usuarios = cursor.fetchall()\n",
        "\n",
        "for usuario in usuarios:\n",
        "    print(usuario)"
      ],
      "metadata": {
        "colab": {
          "base_uri": "https://localhost:8080/"
        },
        "id": "-WUadiZ-_hXB",
        "outputId": "1ebaf4fb-9f45-4ac2-aa5a-7baab9d81c35"
      },
      "execution_count": 5,
      "outputs": [
        {
          "output_type": "stream",
          "name": "stdout",
          "text": [
            "(1, 'João', 25)\n",
            "(2, 'Bob', 30)\n",
            "(3, 'Alice', 27)\n",
            "(4, 'Carem', 35)\n",
            "(5, 'Mateus', 15)\n",
            "(6, 'Alexandre', 40)\n"
          ]
        }
      ]
    },
    {
      "cell_type": "markdown",
      "source": [
        "Update (Atualizar):\n",
        "Atualizar dados de um usuário"
      ],
      "metadata": {
        "id": "atr-Kwcf_qVV"
      }
    },
    {
      "cell_type": "code",
      "source": [
        "# Atualizar a idade do usuário Bob\n",
        "cursor.execute('''UPDATE usuarios SET idade = 26 WHERE nome = 'Bob' ''')\n",
        "\n",
        "# Commit as alterações\n",
        "conn.commit()"
      ],
      "metadata": {
        "id": "SqPLrcqy_uTe"
      },
      "execution_count": 6,
      "outputs": []
    },
    {
      "cell_type": "markdown",
      "source": [
        "Delete (Deletar):Deletar um usuário da tabela"
      ],
      "metadata": {
        "id": "T1i1iIzz_yE4"
      }
    },
    {
      "cell_type": "code",
      "source": [
        "# Deletar o usuário Alice\n",
        "cursor.execute('''DELETE FROM usuarios WHERE nome = 'Alice' ''')\n",
        "\n",
        "# Commit as alterações\n",
        "conn.commit()"
      ],
      "metadata": {
        "id": "Jy2958ua_1Dg"
      },
      "execution_count": 7,
      "outputs": []
    },
    {
      "cell_type": "code",
      "source": [
        "cursor.execute('''SELECT * FROM usuarios''')\n",
        "usuarios = cursor.fetchall()\n",
        "\n",
        "for linha in usuarios:\n",
        "    print(linha)"
      ],
      "metadata": {
        "colab": {
          "base_uri": "https://localhost:8080/"
        },
        "id": "29G0PqDC_471",
        "outputId": "154066ec-499a-4a66-ac23-1f3bdce1cc35"
      },
      "execution_count": 8,
      "outputs": [
        {
          "output_type": "stream",
          "name": "stdout",
          "text": [
            "(1, 'João', 25)\n",
            "(2, 'Bob', 26)\n",
            "(4, 'Carem', 35)\n",
            "(5, 'Mateus', 15)\n",
            "(6, 'Alexandre', 40)\n"
          ]
        }
      ]
    },
    {
      "cell_type": "markdown",
      "source": [
        "Fechando a conexão:\n",
        "Após realizar as operações, é importante fechar a conexão com o banco de dados"
      ],
      "metadata": {
        "id": "cX0bUBlI_84M"
      }
    },
    {
      "cell_type": "code",
      "source": [
        "conn.close()"
      ],
      "metadata": {
        "id": "zVcAy2o9_-ne"
      },
      "execution_count": 9,
      "outputs": []
    },
    {
      "cell_type": "markdown",
      "source": [
        "Estes exemplos cobrem as operações básicas CRUD no SQLite usando Python. Lembre-se de que, na prática, você deve adicionar tratamento de erros e considerações de segurança (como evitar a injeção de SQL) para tornar seu código mais robusto e seguro.\n",
        "\n",
        "Ferramentas para visualizar os registro no banco de dados:\n",
        "\n",
        "Para visualizar dados do SQLite de forma gráfica, você pode usar várias ferramentas e interfaces gráficas de usuário (GUI) disponíveis. Estas ferramentas oferecem uma maneira fácil e interativa de visualizar, gerenciar e manipular seus dados em bancos de dados SQLite. Algumas das opções mais populares incluem:\n",
        "\n",
        "DB Browser for SQLite: É uma ferramenta de código aberto que permite visualizar, editar e criar bancos de dados SQLite. Ela tem uma interface amigável e oferece funcionalidades como a execução de consultas SQL, visualização de tabelas e índices, e exportação de dados. link do site sqlitebrowser.org.\n",
        "\n",
        "SQLiteStudio: Outra ferramenta gratuita e de código aberto para gerenciar bancos de dados SQLite. Oferece uma interface limpa e intuitiva com recursos como editor de SQL com realce de sintaxe, visualizador de dados de tabela, e ferramentas para gerenciamento de banco de dados.\n",
        "\n",
        "DBeaver: Uma ferramenta universal de gerenciamento de banco de dados que suporta SQLite, bem como outros sistemas de gerenciamento de banco de dados. É mais complexa e oferece recursos avançados para usuários que precisam gerenciar múltiplos bancos de dados.\n",
        "\n",
        "Para usar qualquer uma dessas ferramentas, geralmente você só precisa instalar o programa, abrir o arquivo do banco de dados SQLite (geralmente com a extensão .db ou .sqlite) e então você poderá navegar pelas tabelas, executar consultas SQL e visualizar seus dados de forma gráfica. A escolha da ferramenta depende das suas necessidades específicas e se você prefere uma solução gratuita ou paga, com mais recursos avançados."
      ],
      "metadata": {
        "id": "iDQndHyjAB72"
      }
    },
    {
      "cell_type": "code",
      "source": [],
      "metadata": {
        "id": "_epXFfEhAD2g"
      },
      "execution_count": null,
      "outputs": []
    }
  ]
}