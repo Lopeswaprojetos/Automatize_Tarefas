{
  "nbformat": 4,
  "nbformat_minor": 0,
  "metadata": {
    "colab": {
      "provenance": [],
      "authorship_tag": "ABX9TyMAbb97gF4gwqcjO24tq9Fr",
      "include_colab_link": true
    },
    "kernelspec": {
      "name": "python3",
      "display_name": "Python 3"
    },
    "language_info": {
      "name": "python"
    }
  },
  "cells": [
    {
      "cell_type": "markdown",
      "metadata": {
        "id": "view-in-github",
        "colab_type": "text"
      },
      "source": [
        "<a href=\"https://colab.research.google.com/github/Lopeswaprojetos/Automatize_Tarefas/blob/main/LISTAS.ipynb\" target=\"_parent\"><img src=\"https://colab.research.google.com/assets/colab-badge.svg\" alt=\"Open In Colab\"/></a>"
      ]
    },
    {
      "cell_type": "code",
      "execution_count": 1,
      "metadata": {
        "id": "InZqOwPcBptX"
      },
      "outputs": [],
      "source": [
        "lista1 = ['vermelho','azul', 'verde']"
      ]
    },
    {
      "cell_type": "code",
      "source": [
        "def clone(lista):\n",
        "  clone = []\n",
        "  for cor in lista:\n",
        "    clone.append(cor)\n",
        "  return clone"
      ],
      "metadata": {
        "id": "Prtn5uU4Bwbv"
      },
      "execution_count": 2,
      "outputs": []
    },
    {
      "cell_type": "code",
      "source": [
        "lista2 = clone(lista1)"
      ],
      "metadata": {
        "id": "ZQ3Yn5mfBx1k"
      },
      "execution_count": 3,
      "outputs": []
    },
    {
      "cell_type": "code",
      "source": [
        "lista2"
      ],
      "metadata": {
        "colab": {
          "base_uri": "https://localhost:8080/"
        },
        "id": "nf5PjIJWBy_d",
        "outputId": "b86ebb5a-1c26-4000-b513-cdd28a899180"
      },
      "execution_count": 4,
      "outputs": [
        {
          "output_type": "execute_result",
          "data": {
            "text/plain": [
              "['vermelho', 'azul', 'verde']"
            ]
          },
          "metadata": {},
          "execution_count": 4
        }
      ]
    },
    {
      "cell_type": "code",
      "source": [
        "lista2[0]='rosa'"
      ],
      "metadata": {
        "id": "c82c2X8pB4FG"
      },
      "execution_count": 5,
      "outputs": []
    },
    {
      "cell_type": "code",
      "source": [
        "print(lista1)\n",
        "print(lista2)"
      ],
      "metadata": {
        "colab": {
          "base_uri": "https://localhost:8080/"
        },
        "id": "uGeSwPiJB6pK",
        "outputId": "d897f7fa-6956-4935-fb67-c2db1e95959f"
      },
      "execution_count": 6,
      "outputs": [
        {
          "output_type": "stream",
          "name": "stdout",
          "text": [
            "['vermelho', 'azul', 'verde']\n",
            "['rosa', 'azul', 'verde']\n"
          ]
        }
      ]
    },
    {
      "cell_type": "code",
      "source": [
        "'rosa' in lista1"
      ],
      "metadata": {
        "colab": {
          "base_uri": "https://localhost:8080/"
        },
        "id": "Gp_S3KyiB8Wv",
        "outputId": "bd6dfd50-066a-490d-e401-00635b960337"
      },
      "execution_count": 7,
      "outputs": [
        {
          "output_type": "execute_result",
          "data": {
            "text/plain": [
              "False"
            ]
          },
          "metadata": {},
          "execution_count": 7
        }
      ]
    },
    {
      "cell_type": "code",
      "source": [
        "'rosa' in lista2"
      ],
      "metadata": {
        "colab": {
          "base_uri": "https://localhost:8080/"
        },
        "id": "FG6BPGheB9ZQ",
        "outputId": "2030b64c-0d19-4deb-a69f-029273a85c20"
      },
      "execution_count": 8,
      "outputs": [
        {
          "output_type": "execute_result",
          "data": {
            "text/plain": [
              "True"
            ]
          },
          "metadata": {},
          "execution_count": 8
        }
      ]
    },
    {
      "cell_type": "code",
      "source": [
        "if 'rosa' in lista2:\n",
        "  print('Pink')"
      ],
      "metadata": {
        "colab": {
          "base_uri": "https://localhost:8080/"
        },
        "id": "zrPdUj-HB-o0",
        "outputId": "50f24f44-a358-4173-b81a-0255be1c6cfb"
      },
      "execution_count": 9,
      "outputs": [
        {
          "output_type": "stream",
          "name": "stdout",
          "text": [
            "Pink\n"
          ]
        }
      ]
    },
    {
      "cell_type": "code",
      "source": [
        "if 'azul' in lista1:\n",
        "  print('Blues')"
      ],
      "metadata": {
        "colab": {
          "base_uri": "https://localhost:8080/"
        },
        "id": "Fm4O2fqdB_xY",
        "outputId": "2b37a8ac-283f-40db-d863-70d33e22db16"
      },
      "execution_count": 10,
      "outputs": [
        {
          "output_type": "stream",
          "name": "stdout",
          "text": [
            "Blues\n"
          ]
        }
      ]
    },
    {
      "cell_type": "code",
      "source": [
        "a = [1,2,3]\n",
        "b= [4,5,6]\n",
        "a+b\n",
        ""
      ],
      "metadata": {
        "colab": {
          "base_uri": "https://localhost:8080/"
        },
        "id": "eYJmQOtyCA9U",
        "outputId": "f01c5ff3-3355-49f4-fb95-912239df8633"
      },
      "execution_count": 11,
      "outputs": [
        {
          "output_type": "execute_result",
          "data": {
            "text/plain": [
              "[1, 2, 3, 4, 5, 6]"
            ]
          },
          "metadata": {},
          "execution_count": 11
        }
      ]
    },
    {
      "cell_type": "code",
      "source": [
        "b+a"
      ],
      "metadata": {
        "colab": {
          "base_uri": "https://localhost:8080/"
        },
        "id": "p4Q6FBRYCCfM",
        "outputId": "f07fbdbc-b565-4549-a316-7314ccc5fc40"
      },
      "execution_count": 12,
      "outputs": [
        {
          "output_type": "execute_result",
          "data": {
            "text/plain": [
              "[4, 5, 6, 1, 2, 3]"
            ]
          },
          "metadata": {},
          "execution_count": 12
        }
      ]
    },
    {
      "cell_type": "code",
      "source": [
        "c=b+a+b"
      ],
      "metadata": {
        "id": "J5fsOiwlCD7s"
      },
      "execution_count": 13,
      "outputs": []
    },
    {
      "cell_type": "code",
      "source": [
        "a = a+b"
      ],
      "metadata": {
        "id": "0-AuhT7BCFCn"
      },
      "execution_count": 14,
      "outputs": []
    },
    {
      "cell_type": "code",
      "source": [
        "a"
      ],
      "metadata": {
        "colab": {
          "base_uri": "https://localhost:8080/"
        },
        "id": "VYMXs5ewCGCH",
        "outputId": "34e32008-8cf1-487a-dfa1-0aed299c8d0d"
      },
      "execution_count": 15,
      "outputs": [
        {
          "output_type": "execute_result",
          "data": {
            "text/plain": [
              "[1, 2, 3, 4, 5, 6]"
            ]
          },
          "metadata": {},
          "execution_count": 15
        }
      ]
    },
    {
      "cell_type": "code",
      "source": [
        "a = a+[6]"
      ],
      "metadata": {
        "id": "MsRsdLLiCHE2"
      },
      "execution_count": 16,
      "outputs": []
    },
    {
      "cell_type": "code",
      "source": [
        "a"
      ],
      "metadata": {
        "colab": {
          "base_uri": "https://localhost:8080/"
        },
        "id": "FTVmHgjACISV",
        "outputId": "260ab713-dd5a-4fe9-e94c-11f5d7ee1756"
      },
      "execution_count": 17,
      "outputs": [
        {
          "output_type": "execute_result",
          "data": {
            "text/plain": [
              "[1, 2, 3, 4, 5, 6, 6]"
            ]
          },
          "metadata": {},
          "execution_count": 17
        }
      ]
    },
    {
      "cell_type": "code",
      "source": [
        "set(a)"
      ],
      "metadata": {
        "colab": {
          "base_uri": "https://localhost:8080/"
        },
        "id": "BkomCkOkCJNx",
        "outputId": "faccff02-274d-4b8f-b00b-86e31db26a79"
      },
      "execution_count": 18,
      "outputs": [
        {
          "output_type": "execute_result",
          "data": {
            "text/plain": [
              "{1, 2, 3, 4, 5, 6}"
            ]
          },
          "metadata": {},
          "execution_count": 18
        }
      ]
    },
    {
      "cell_type": "code",
      "source": [
        "a"
      ],
      "metadata": {
        "colab": {
          "base_uri": "https://localhost:8080/"
        },
        "id": "WWJMMeENCKKM",
        "outputId": "8f286197-31aa-48ab-8d2f-771b2fa7cda6"
      },
      "execution_count": 19,
      "outputs": [
        {
          "output_type": "execute_result",
          "data": {
            "text/plain": [
              "[1, 2, 3, 4, 5, 6, 6]"
            ]
          },
          "metadata": {},
          "execution_count": 19
        }
      ]
    },
    {
      "cell_type": "code",
      "source": [
        "a_triplicado = a*3"
      ],
      "metadata": {
        "id": "10lc6cCjCLgG"
      },
      "execution_count": 20,
      "outputs": []
    },
    {
      "cell_type": "code",
      "source": [
        "a_triplicado"
      ],
      "metadata": {
        "colab": {
          "base_uri": "https://localhost:8080/"
        },
        "id": "Y2XG0jCXCM6c",
        "outputId": "347c5e6e-1e57-401a-a113-f5520f97a69f"
      },
      "execution_count": 21,
      "outputs": [
        {
          "output_type": "execute_result",
          "data": {
            "text/plain": [
              "[1, 2, 3, 4, 5, 6, 6, 1, 2, 3, 4, 5, 6, 6, 1, 2, 3, 4, 5, 6, 6]"
            ]
          },
          "metadata": {},
          "execution_count": 21
        }
      ]
    },
    {
      "cell_type": "code",
      "source": [
        "len(a_triplicado)"
      ],
      "metadata": {
        "colab": {
          "base_uri": "https://localhost:8080/"
        },
        "id": "fXMdIQjuCOp0",
        "outputId": "85de13db-9b3b-4b33-8971-186591354d61"
      },
      "execution_count": 22,
      "outputs": [
        {
          "output_type": "execute_result",
          "data": {
            "text/plain": [
              "21"
            ]
          },
          "metadata": {},
          "execution_count": 22
        }
      ]
    },
    {
      "cell_type": "code",
      "source": [
        "len(set(a_triplicado))"
      ],
      "metadata": {
        "colab": {
          "base_uri": "https://localhost:8080/"
        },
        "id": "sBbAPUAPCPvv",
        "outputId": "01f60373-4bd8-4076-8dee-d31804077225"
      },
      "execution_count": 23,
      "outputs": [
        {
          "output_type": "execute_result",
          "data": {
            "text/plain": [
              "6"
            ]
          },
          "metadata": {},
          "execution_count": 23
        }
      ]
    },
    {
      "cell_type": "code",
      "source": [
        "del a[1]"
      ],
      "metadata": {
        "id": "MgLqJaxKCQsc"
      },
      "execution_count": 24,
      "outputs": []
    },
    {
      "cell_type": "code",
      "source": [
        "a"
      ],
      "metadata": {
        "colab": {
          "base_uri": "https://localhost:8080/"
        },
        "id": "EL3GdNm6CRvv",
        "outputId": "60a431c2-42a2-4110-e24d-8a31b1cc806c"
      },
      "execution_count": 25,
      "outputs": [
        {
          "output_type": "execute_result",
          "data": {
            "text/plain": [
              "[1, 3, 4, 5, 6, 6]"
            ]
          },
          "metadata": {},
          "execution_count": 25
        }
      ]
    },
    {
      "cell_type": "code",
      "source": [
        "del a[1:3]"
      ],
      "metadata": {
        "id": "tef2AF4NCTp1"
      },
      "execution_count": 26,
      "outputs": []
    },
    {
      "cell_type": "code",
      "source": [
        "alfabeto = [\"a\", \"b\", \"c\", \"d\", \"e\", \"f\", \"g\", \"h\", \"i\", \"j\", \"k\", \"l\", \"m\", \"n\", \"o\", \"p\", \"q\", \"r\", \"s\", \"t\", \"u\", \"v\", \"w\", \"x\", \"y\", \"z\"]"
      ],
      "metadata": {
        "id": "yY15r-CtCXb0"
      },
      "execution_count": 27,
      "outputs": []
    },
    {
      "cell_type": "code",
      "source": [
        "alfabeto[13:27]"
      ],
      "metadata": {
        "colab": {
          "base_uri": "https://localhost:8080/"
        },
        "id": "OCkXP2eJCYju",
        "outputId": "cec38354-eb9c-42b3-878c-97eff2231c40"
      },
      "execution_count": 28,
      "outputs": [
        {
          "output_type": "execute_result",
          "data": {
            "text/plain": [
              "['n', 'o', 'p', 'q', 'r', 's', 't', 'u', 'v', 'w', 'x', 'y', 'z']"
            ]
          },
          "metadata": {},
          "execution_count": 28
        }
      ]
    },
    {
      "cell_type": "code",
      "source": [
        "alfabeto[1:10]"
      ],
      "metadata": {
        "colab": {
          "base_uri": "https://localhost:8080/"
        },
        "id": "MzGncr1vCZyn",
        "outputId": "688df622-60dc-42d7-882a-f29c4bbbe5ef"
      },
      "execution_count": 29,
      "outputs": [
        {
          "output_type": "execute_result",
          "data": {
            "text/plain": [
              "['b', 'c', 'd', 'e', 'f', 'g', 'h', 'i', 'j']"
            ]
          },
          "metadata": {},
          "execution_count": 29
        }
      ]
    },
    {
      "cell_type": "code",
      "source": [
        "carnes = [\"picanha\", \"alcatra\", \"filé mignon\", \"cupim\"]\n",
        "carnes2 = carnes[:]\n",
        "carnes2.append('ponta')\n",
        "print(carnes)\n",
        "print(carnes2)"
      ],
      "metadata": {
        "colab": {
          "base_uri": "https://localhost:8080/"
        },
        "id": "JRlI6g9pCbGl",
        "outputId": "33cc09bd-f196-4c1f-a9f8-d6d7a7b0450a"
      },
      "execution_count": 30,
      "outputs": [
        {
          "output_type": "stream",
          "name": "stdout",
          "text": [
            "['picanha', 'alcatra', 'filé mignon', 'cupim']\n",
            "['picanha', 'alcatra', 'filé mignon', 'cupim', 'ponta']\n"
          ]
        }
      ]
    },
    {
      "cell_type": "code",
      "source": [
        "carnes = [\"picanha\", \"alcatra\", \"filé mignon\", \"cupim\"]\n",
        "x = carnes\n",
        "del (x[-1])\n",
        "print(carnes)\n",
        "print(x)"
      ],
      "metadata": {
        "colab": {
          "base_uri": "https://localhost:8080/"
        },
        "id": "shbp8ucCCcme",
        "outputId": "158a898e-f6c4-4cfa-febd-67a089047b17"
      },
      "execution_count": 31,
      "outputs": [
        {
          "output_type": "stream",
          "name": "stdout",
          "text": [
            "['picanha', 'alcatra', 'filé mignon']\n",
            "['picanha', 'alcatra', 'filé mignon']\n"
          ]
        }
      ]
    },
    {
      "cell_type": "code",
      "source": [
        "def remove_repetidos(lista):\n",
        "  itens_unicos = list(set(lista))\n",
        "  return sorted(itens_unicos)"
      ],
      "metadata": {
        "id": "XLMXS0PyCeTs"
      },
      "execution_count": 32,
      "outputs": []
    },
    {
      "cell_type": "code",
      "source": [
        "a = [3,7,12,33,100]"
      ],
      "metadata": {
        "id": "4UpcUW83Cf1s"
      },
      "execution_count": 33,
      "outputs": []
    },
    {
      "cell_type": "code",
      "source": [
        "remove_repetidos(a)"
      ],
      "metadata": {
        "colab": {
          "base_uri": "https://localhost:8080/"
        },
        "id": "N6j8gbcPChiU",
        "outputId": "c355ca27-dff6-43ea-ea4a-2d2604cdc401"
      },
      "execution_count": 34,
      "outputs": [
        {
          "output_type": "execute_result",
          "data": {
            "text/plain": [
              "[3, 7, 12, 33, 100]"
            ]
          },
          "metadata": {},
          "execution_count": 34
        }
      ]
    },
    {
      "cell_type": "code",
      "source": [
        "def soma_elementos(lista):\n",
        "  soma = sum(a)\n",
        "  return soma"
      ],
      "metadata": {
        "id": "PI_gvPPECinl"
      },
      "execution_count": 35,
      "outputs": []
    },
    {
      "cell_type": "code",
      "source": [
        "soma = sum(a)\n",
        "soma"
      ],
      "metadata": {
        "colab": {
          "base_uri": "https://localhost:8080/"
        },
        "id": "QjnaVXfVCj7w",
        "outputId": "d58dbf20-58f1-4757-a92b-68afba883f7b"
      },
      "execution_count": 36,
      "outputs": [
        {
          "output_type": "execute_result",
          "data": {
            "text/plain": [
              "155"
            ]
          },
          "metadata": {},
          "execution_count": 36
        }
      ]
    },
    {
      "cell_type": "code",
      "source": [
        "a"
      ],
      "metadata": {
        "colab": {
          "base_uri": "https://localhost:8080/"
        },
        "id": "iu3oIlCxClP9",
        "outputId": "e9625320-2599-4175-d8bd-e361d3f09f1b"
      },
      "execution_count": 37,
      "outputs": [
        {
          "output_type": "execute_result",
          "data": {
            "text/plain": [
              "[3, 7, 12, 33, 100]"
            ]
          },
          "metadata": {},
          "execution_count": 37
        }
      ]
    },
    {
      "cell_type": "code",
      "source": [
        "b= [1, 2, 3, 4, 5, 6, 6, 1, 2, 3, 4, 5, 6, 6, 1, 2, 3, 4, 5, 6, 6]"
      ],
      "metadata": {
        "id": "hxsNGkaFCnHn"
      },
      "execution_count": 38,
      "outputs": []
    },
    {
      "cell_type": "code",
      "source": [
        "b"
      ],
      "metadata": {
        "colab": {
          "base_uri": "https://localhost:8080/"
        },
        "id": "ikWCfhhoCoJ_",
        "outputId": "e5bd8ccc-1dc4-4f89-e383-f770b81db81b"
      },
      "execution_count": 39,
      "outputs": [
        {
          "output_type": "execute_result",
          "data": {
            "text/plain": [
              "[1, 2, 3, 4, 5, 6, 6, 1, 2, 3, 4, 5, 6, 6, 1, 2, 3, 4, 5, 6, 6]"
            ]
          },
          "metadata": {},
          "execution_count": 39
        }
      ]
    },
    {
      "cell_type": "code",
      "source": [
        "sorted(b)"
      ],
      "metadata": {
        "colab": {
          "base_uri": "https://localhost:8080/"
        },
        "id": "54mi9hMYCpze",
        "outputId": "b4e1a7d6-c640-4b96-8c94-8f96839c38c6"
      },
      "execution_count": 40,
      "outputs": [
        {
          "output_type": "execute_result",
          "data": {
            "text/plain": [
              "[1, 1, 1, 2, 2, 2, 3, 3, 3, 4, 4, 4, 5, 5, 5, 6, 6, 6, 6, 6, 6]"
            ]
          },
          "metadata": {},
          "execution_count": 40
        }
      ]
    },
    {
      "cell_type": "code",
      "source": [
        "def maior_elemento(lista):\n",
        "  lista_ordenada = sorted(lista)\n",
        "  return lista_ordenada[-1]"
      ],
      "metadata": {
        "id": "8Q61oFSlCorU"
      },
      "execution_count": 41,
      "outputs": []
    },
    {
      "cell_type": "code",
      "source": [
        "maior_elemento(b)"
      ],
      "metadata": {
        "colab": {
          "base_uri": "https://localhost:8080/"
        },
        "id": "zu5v4qLACszR",
        "outputId": "729cda56-223d-4f55-daa0-4f3af606f93a"
      },
      "execution_count": 42,
      "outputs": [
        {
          "output_type": "execute_result",
          "data": {
            "text/plain": [
              "6"
            ]
          },
          "metadata": {},
          "execution_count": 42
        }
      ]
    },
    {
      "cell_type": "code",
      "source": [
        "maior_elemento(a)"
      ],
      "metadata": {
        "colab": {
          "base_uri": "https://localhost:8080/"
        },
        "id": "rJF-EX5dCtJ2",
        "outputId": "bc5e0193-aad2-4512-dda9-15e6507be1cf"
      },
      "execution_count": 43,
      "outputs": [
        {
          "output_type": "execute_result",
          "data": {
            "text/plain": [
              "100"
            ]
          },
          "metadata": {},
          "execution_count": 43
        }
      ]
    },
    {
      "cell_type": "code",
      "source": [
        "maior_elemento(c)"
      ],
      "metadata": {
        "colab": {
          "base_uri": "https://localhost:8080/"
        },
        "id": "UbTqLtXsC0Cm",
        "outputId": "30cc3c6c-2aeb-47a6-b2b8-437eb8962b77"
      },
      "execution_count": 45,
      "outputs": [
        {
          "output_type": "execute_result",
          "data": {
            "text/plain": [
              "6"
            ]
          },
          "metadata": {},
          "execution_count": 45
        }
      ]
    },
    {
      "cell_type": "code",
      "source": [
        "def inverte():\n",
        "  m = 1\n",
        "  lista = []\n",
        "  while m != 0:\n",
        "    n = int(input('digite um numero: '))\n",
        "    lista.append(n)\n",
        "    m=n\n",
        "  reversa = list(reversed(lista))\n",
        "  for i in range(1,len(reversa)):\n",
        "    print(reversa[i])"
      ],
      "metadata": {
        "id": "CD4X463zC11D"
      },
      "execution_count": 44,
      "outputs": []
    },
    {
      "cell_type": "code",
      "source": [
        "\n",
        "inverte()"
      ],
      "metadata": {
        "colab": {
          "base_uri": "https://localhost:8080/"
        },
        "id": "UvbzoWuhC3UL",
        "outputId": "a2ffa1fc-a91d-48d2-da92-1e6d5686caba"
      },
      "execution_count": 49,
      "outputs": [
        {
          "output_type": "stream",
          "name": "stdout",
          "text": [
            "digite um numero: 45\n",
            "digite um numero: 56\n",
            "digite um numero: 32\n",
            "digite um numero: 21\n",
            "digite um numero: 0\n",
            "21\n",
            "32\n",
            "56\n",
            "45\n"
          ]
        }
      ]
    },
    {
      "cell_type": "code",
      "source": [
        "supplies = ['pens', 'staplers', 'flame-throwers', 'binders']"
      ],
      "metadata": {
        "id": "59WvBcbGC5AL"
      },
      "execution_count": 50,
      "outputs": []
    },
    {
      "cell_type": "code",
      "source": [
        "for i in range(len(supplies)):\n",
        "  print(f'Index {i} in supplies is: {supplies[i]}')"
      ],
      "metadata": {
        "colab": {
          "base_uri": "https://localhost:8080/"
        },
        "id": "sCY3Ml41C62E",
        "outputId": "25a88ca6-0e41-4146-b3d1-31a3728adf85"
      },
      "execution_count": 51,
      "outputs": [
        {
          "output_type": "stream",
          "name": "stdout",
          "text": [
            "Index 0 in supplies is: pens\n",
            "Index 1 in supplies is: staplers\n",
            "Index 2 in supplies is: flame-throwers\n",
            "Index 3 in supplies is: binders\n"
          ]
        }
      ]
    },
    {
      "cell_type": "markdown",
      "source": [
        "Operadores in e not in\n",
        "Podemos determinar se um valor está ou não em uma lista usando os operadores in e not in.\n",
        "\n",
        "Assim como os demais operadores, in e not in são usados em expressões e associam dois valores: um valor a ser procurado em uma lista e a lista em que esse valor poderá ser encontrado. Essas expressões serão avaliadas como um valor booleano."
      ],
      "metadata": {
        "id": "kWzBZA3XC8YJ"
      }
    },
    {
      "cell_type": "code",
      "source": [
        "'vermelho' in ['verde','azul','branco','vermelho','rosa']"
      ],
      "metadata": {
        "colab": {
          "base_uri": "https://localhost:8080/"
        },
        "id": "SepcbChNC9CL",
        "outputId": "c0295384-d472-45e2-a4e3-0fcf2f75a4eb"
      },
      "execution_count": 52,
      "outputs": [
        {
          "output_type": "execute_result",
          "data": {
            "text/plain": [
              "True"
            ]
          },
          "metadata": {},
          "execution_count": 52
        }
      ]
    },
    {
      "cell_type": "code",
      "source": [
        "cores = ['verde','azul','branco','vermelho','rosa']"
      ],
      "metadata": {
        "id": "BrfvIeKGC_ey"
      },
      "execution_count": 54,
      "outputs": []
    },
    {
      "cell_type": "code",
      "source": [
        "'roxo' in cores"
      ],
      "metadata": {
        "colab": {
          "base_uri": "https://localhost:8080/"
        },
        "id": "dbtXa4bhDAoU",
        "outputId": "322ce2b0-8582-4998-b859-a67e2b28c9df"
      },
      "execution_count": 55,
      "outputs": [
        {
          "output_type": "execute_result",
          "data": {
            "text/plain": [
              "False"
            ]
          },
          "metadata": {},
          "execution_count": 55
        }
      ]
    },
    {
      "cell_type": "code",
      "source": [
        "'vermelho' not in cores"
      ],
      "metadata": {
        "colab": {
          "base_uri": "https://localhost:8080/"
        },
        "id": "vH2e8xf3DBrv",
        "outputId": "839e4ff6-5098-4b23-fc22-01a1fcec9b02"
      },
      "execution_count": 56,
      "outputs": [
        {
          "output_type": "execute_result",
          "data": {
            "text/plain": [
              "False"
            ]
          },
          "metadata": {},
          "execution_count": 56
        }
      ]
    },
    {
      "cell_type": "code",
      "source": [
        "'roxo' not in cores"
      ],
      "metadata": {
        "colab": {
          "base_uri": "https://localhost:8080/"
        },
        "id": "_HJleiD9DC3T",
        "outputId": "d70badbc-8d40-4c04-8813-6fc284e8a01b"
      },
      "execution_count": 57,
      "outputs": [
        {
          "output_type": "execute_result",
          "data": {
            "text/plain": [
              "True"
            ]
          },
          "metadata": {},
          "execution_count": 57
        }
      ]
    },
    {
      "cell_type": "markdown",
      "source": [
        "Por exemplo, o programa a seguir permite que o usuário digite o nome de um bichinho de estimação e, em seguida, verifique se o nome está em uma lista de bichinhos de estimação."
      ],
      "metadata": {
        "id": "uleW6phmDEtE"
      }
    },
    {
      "cell_type": "code",
      "source": [
        "meus_bichos = ['Puff','Srek','Poka']\n",
        "print('Entre com um nome de bicho: ')\n",
        "name = input()\n",
        "if name not in meus_bichos:\n",
        "  print(f'Amanda não tem um bicho chamado {name}')\n",
        "else:\n",
        "  print(f'{name} é um bichinho da Amanda')"
      ],
      "metadata": {
        "colab": {
          "base_uri": "https://localhost:8080/"
        },
        "id": "t_KhbPPzDHMj",
        "outputId": "a69e23d1-57fc-4e3e-8357-5be042933a12"
      },
      "execution_count": 58,
      "outputs": [
        {
          "output_type": "stream",
          "name": "stdout",
          "text": [
            "Entre com um nome de bicho: \n",
            "Amanda\n",
            "Amanda não tem um bicho chamado Amanda\n"
          ]
        }
      ]
    }
  ]
}